#변수와 자료형


#자료형의 값을 저장하는 공간, 변수


a=1
print(a)


b='python'
b


c=[1,2,3]
c


#숫자형


#정수형
a=123
a


a


#float (실수형-튜플)


a=1.2
b=-3.45
a,b


a=4.24E10
a


#8진수와 16진수
a=0x8ff
a


#연산자
#사칙연산


a=3
b=4
a+b


#x의 y제곱을 나타네는 연산자


a**b


#나눗셈 후 나머지를 리턴


7%3


#나눗샘 후 몫 리턴


7//4


#복합연산자
a=a+1
a


a+=1
a


a-=1
a


#문자열


"hello world"


#문자열에 작은따옴표 포함하기


"python's perl"


#문자열에 큰 따옴표 포함하기


'"python is easy" he says.'


#역슬래시를 사용해서 작은따옴표와 큰따옴표문자열에 포함하기. 예외처리
food='python\'s facorite food is perl'
food


#여러 줄인 문자열을 변수에 대입하고 싶을 때


#줄바꾸기위한 이스케이프 코드 \n 삽입하기
multiline="Life is too short\nYou need python"
multiline


print(multiline)


#2.연속된 작은따옴표 3개 또는 큰따옴표 3개 사용하기
'''
life is too short
'''


#문자열 연산하기
head="python"
tail='is fun!'
head+tail


head*2


a='life is too short'
len(a)


#문자열 인덱싱과 슬라이싱
a="life is too short, you need python"
a


a[3]


a[17]


a[-1]


a[0]+a[1]


a[0:4]


a[12:19]


a[19:-7]


#슬라이싱으로 문자열 나누기
a = "20240904sunny"
date = a[0:8]
weather = a[8:13]
date, weather


year=date[0:4]
year


#문자열 변경할 수 있을까? -불가능하다. 문자열만의 특징이다. 즉, immutable 객체다.
a="pithon"
a[1]


a[1]='y'


a = "Pithon"
b = "y"
a[0] + b + a[2:]


#문자열 포매팅
"I eat %d apples"%3


"I eat %s apples"%"five"


number=3
"I eat %d apples"%number


number=10
day="three"
"I ate %d apples. so I was sick for %s days."%(number, day)


#error is 98%
"error is %d%%"%98


#소수점 표현하기
"%0.2f"%3.486656


#포맷함수를 사용한 포매팅
"i eat {0} apples".format(3)


"i eat {0} apples".format("four")


"I ate {} apples. so I wa sick for {} days". format(number, day)


"I ate {a} apples. so I wa sick for {b} days". format(a=number, b=day)


y=3.41355
"{0:0.4f}".format(y)


"{{and}}".format()


#f문자열 포매팅 : 나의 이름은 ㅇ입니다. 나이는 ㅇ입니다.
name='홍길동'
age=31
f'나의 이름은 {name}입니다. 나이는 {age}입니다.'


#딕셔너리 구조
d={'name':'홍길동','age':30}
d


d['name']


f"나의 이름은 {d['name']}입니다. 나이는 {d['age']} 입니다."


y
f'{y:0.4f}'


#문자열 관련 함수들
a='hobby'
len(a)


#특정 문자열 개수를 세기
a.count('b')


#위치 알려주기
a='python is the best choice'
a.find('b')


a. find('k')


a.find?


help(a.find)


#위치 알려주기 - 인덱스는 없는걸 찾으면 에러가 난다. find는 없어도 에러는 안난다.
a='life is too short'
a.index('t'), a.find('t')


a.find('k')


#문자열 삽입 join
'abcd'


#반드시 문자열로 반환합니다.
','.join('abcd')


a="hi"
a.upper()


#공백 지우기 - 스키마 지정으로 인한 자리수 지정때문에 공백이 생길 수 있다
a="       hi         "
a.rstrip()


a.lstrip()


a.strip()


#문자는 원래 immutable 하지만 이 메소드는 가능하게 한다.
a="life is too short"
a.replace("life", "your leg")


#문자열 나누기
a


a.split() #리스트로 반환


b="a:b:v:d"
b.split(sep=':')



