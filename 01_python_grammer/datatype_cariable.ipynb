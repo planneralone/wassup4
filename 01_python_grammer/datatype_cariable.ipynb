{
 "cells": [
  {
   "cell_type": "code",
   "execution_count": 3,
   "id": "49927303-3b5b-4d1f-8281-12a063c86ddc",
   "metadata": {},
   "outputs": [],
   "source": [
    "#변수와 자료형"
   ]
  },
  {
   "cell_type": "code",
   "execution_count": null,
   "id": "3fd6bb7a-c73e-45a2-998c-2a6c8b5ecc3b",
   "metadata": {},
   "outputs": [],
   "source": [
    "#자료형의 값을 저장하는 공간, 변수"
   ]
  },
  {
   "cell_type": "code",
   "execution_count": 7,
   "id": "84782267-6e84-45a8-b54d-3b12d625b487",
   "metadata": {},
   "outputs": [
    {
     "name": "stdout",
     "output_type": "stream",
     "text": [
      "1\n"
     ]
    }
   ],
   "source": [
    "a=1\n",
    "print(a)"
   ]
  },
  {
   "cell_type": "code",
   "execution_count": 9,
   "id": "cb491bcb-3d6f-4cc4-8d14-89b919dfe6d0",
   "metadata": {},
   "outputs": [
    {
     "data": {
      "text/plain": [
       "'python'"
      ]
     },
     "execution_count": 9,
     "metadata": {},
     "output_type": "execute_result"
    }
   ],
   "source": [
    "b='python'\n",
    "b"
   ]
  },
  {
   "cell_type": "code",
   "execution_count": 11,
   "id": "63e0190b-7e71-44b0-9e2e-24a5419771fe",
   "metadata": {},
   "outputs": [
    {
     "data": {
      "text/plain": [
       "[1, 2, 3]"
      ]
     },
     "execution_count": 11,
     "metadata": {},
     "output_type": "execute_result"
    }
   ],
   "source": [
    "c=[1,2,3]\n",
    "c"
   ]
  },
  {
   "cell_type": "code",
   "execution_count": 13,
   "id": "ff2655a9-d8da-4a3b-ae42-1857acf20d89",
   "metadata": {},
   "outputs": [],
   "source": [
    "#숫자형"
   ]
  },
  {
   "cell_type": "code",
   "execution_count": 15,
   "id": "c84b5592-443e-43c9-9ae1-4cfe33846404",
   "metadata": {},
   "outputs": [
    {
     "data": {
      "text/plain": [
       "123"
      ]
     },
     "execution_count": 15,
     "metadata": {},
     "output_type": "execute_result"
    }
   ],
   "source": [
    "#정수형\n",
    "a=123\n",
    "a"
   ]
  },
  {
   "cell_type": "code",
   "execution_count": null,
   "id": "b625be48-cbaf-4c3d-8184-6cd9f2c7c9c2",
   "metadata": {},
   "outputs": [],
   "source": [
    "a"
   ]
  },
  {
   "cell_type": "code",
   "execution_count": 19,
   "id": "e0f38ca3-c1fc-4f09-8390-dee44a073fc2",
   "metadata": {},
   "outputs": [],
   "source": [
    "#float (실수형-튜플)"
   ]
  },
  {
   "cell_type": "code",
   "execution_count": 21,
   "id": "6ee9cc70-2b69-425a-9274-f46bc68a1849",
   "metadata": {},
   "outputs": [
    {
     "data": {
      "text/plain": [
       "(1.2, -3.45)"
      ]
     },
     "execution_count": 21,
     "metadata": {},
     "output_type": "execute_result"
    }
   ],
   "source": [
    "a=1.2\n",
    "b=-3.45\n",
    "a,b"
   ]
  },
  {
   "cell_type": "code",
   "execution_count": 23,
   "id": "6bb7a5f2-5b66-41bd-b3e7-c72e8478e70b",
   "metadata": {},
   "outputs": [
    {
     "data": {
      "text/plain": [
       "42400000000.0"
      ]
     },
     "execution_count": 23,
     "metadata": {},
     "output_type": "execute_result"
    }
   ],
   "source": [
    "a=4.24E10\n",
    "a"
   ]
  },
  {
   "cell_type": "code",
   "execution_count": 25,
   "id": "79009c7f-7e68-4289-9abc-3a91f9effb98",
   "metadata": {},
   "outputs": [
    {
     "data": {
      "text/plain": [
       "2303"
      ]
     },
     "execution_count": 25,
     "metadata": {},
     "output_type": "execute_result"
    }
   ],
   "source": [
    "#8진수와 16진수\n",
    "a=0x8ff\n",
    "a"
   ]
  },
  {
   "cell_type": "code",
   "execution_count": 29,
   "id": "41f68cd5-02d4-4126-a02d-469757b242e4",
   "metadata": {},
   "outputs": [],
   "source": [
    "#연산자\n",
    "#사칙연산"
   ]
  },
  {
   "cell_type": "code",
   "execution_count": 31,
   "id": "679d93bc-49f8-4f32-8331-6b7f51e964a2",
   "metadata": {},
   "outputs": [
    {
     "data": {
      "text/plain": [
       "7"
      ]
     },
     "execution_count": 31,
     "metadata": {},
     "output_type": "execute_result"
    }
   ],
   "source": [
    "a=3\n",
    "b=4\n",
    "a+b"
   ]
  },
  {
   "cell_type": "code",
   "execution_count": null,
   "id": "b1200ce0-f6c2-4d0d-a863-3c0d9b14569e",
   "metadata": {},
   "outputs": [],
   "source": [
    "#x의 y제곱을 나타네는 연산자"
   ]
  },
  {
   "cell_type": "code",
   "execution_count": 33,
   "id": "7466ae54-f74e-41c1-af33-0a7be96b792c",
   "metadata": {},
   "outputs": [
    {
     "data": {
      "text/plain": [
       "81"
      ]
     },
     "execution_count": 33,
     "metadata": {},
     "output_type": "execute_result"
    }
   ],
   "source": [
    "a**b"
   ]
  },
  {
   "cell_type": "code",
   "execution_count": 35,
   "id": "b094f45e-9144-436f-8a4c-c9dcdbb69aa0",
   "metadata": {},
   "outputs": [],
   "source": [
    "#나눗셈 후 나머지를 리턴"
   ]
  },
  {
   "cell_type": "code",
   "execution_count": 37,
   "id": "09e670ba-98fa-4a59-8e8b-53866e814262",
   "metadata": {},
   "outputs": [
    {
     "data": {
      "text/plain": [
       "1"
      ]
     },
     "execution_count": 37,
     "metadata": {},
     "output_type": "execute_result"
    }
   ],
   "source": [
    "7%3"
   ]
  },
  {
   "cell_type": "code",
   "execution_count": 39,
   "id": "8007fe2b-100e-46d4-8fe0-620eeb41a420",
   "metadata": {},
   "outputs": [],
   "source": [
    "#나눗샘 후 몫 리턴"
   ]
  },
  {
   "cell_type": "code",
   "execution_count": 41,
   "id": "009f7f1d-257c-4a68-944a-aa407adfd405",
   "metadata": {},
   "outputs": [
    {
     "data": {
      "text/plain": [
       "1"
      ]
     },
     "execution_count": 41,
     "metadata": {},
     "output_type": "execute_result"
    }
   ],
   "source": [
    "7//4"
   ]
  },
  {
   "cell_type": "code",
   "execution_count": 43,
   "id": "855ea18f-ef2b-42b4-8951-1dd06c2f9512",
   "metadata": {},
   "outputs": [
    {
     "data": {
      "text/plain": [
       "4"
      ]
     },
     "execution_count": 43,
     "metadata": {},
     "output_type": "execute_result"
    }
   ],
   "source": [
    "#복합연산자\n",
    "a=a+1\n",
    "a"
   ]
  },
  {
   "cell_type": "code",
   "execution_count": 47,
   "id": "6ab06054-0def-44e9-8880-a8432079f872",
   "metadata": {},
   "outputs": [
    {
     "data": {
      "text/plain": [
       "6"
      ]
     },
     "execution_count": 47,
     "metadata": {},
     "output_type": "execute_result"
    }
   ],
   "source": [
    "a+=1\n",
    "a"
   ]
  },
  {
   "cell_type": "code",
   "execution_count": 49,
   "id": "a286adce-c992-441e-8a26-d9e05789d1bb",
   "metadata": {},
   "outputs": [
    {
     "data": {
      "text/plain": [
       "5"
      ]
     },
     "execution_count": 49,
     "metadata": {},
     "output_type": "execute_result"
    }
   ],
   "source": [
    "a-=1\n",
    "a"
   ]
  },
  {
   "cell_type": "code",
   "execution_count": 51,
   "id": "60d2edea-5eb0-4a8f-b2f7-6b9c0883dba2",
   "metadata": {},
   "outputs": [],
   "source": [
    "#문자열"
   ]
  },
  {
   "cell_type": "code",
   "execution_count": 55,
   "id": "955aee6b-bfea-47e6-bd3d-75e712d24d43",
   "metadata": {},
   "outputs": [
    {
     "data": {
      "text/plain": [
       "'hello world'"
      ]
     },
     "execution_count": 55,
     "metadata": {},
     "output_type": "execute_result"
    }
   ],
   "source": [
    "\"hello world\""
   ]
  },
  {
   "cell_type": "code",
   "execution_count": 57,
   "id": "8f71ed6e-c6d8-436e-92cc-fd40e15c6fc1",
   "metadata": {},
   "outputs": [],
   "source": [
    "#문자열에 작은따옴표 포함하기"
   ]
  },
  {
   "cell_type": "code",
   "execution_count": 59,
   "id": "d726b5f0-38e6-44e2-86d4-056677bbfe13",
   "metadata": {},
   "outputs": [
    {
     "data": {
      "text/plain": [
       "\"python's perl\""
      ]
     },
     "execution_count": 59,
     "metadata": {},
     "output_type": "execute_result"
    }
   ],
   "source": [
    "\"python's perl\""
   ]
  },
  {
   "cell_type": "code",
   "execution_count": 65,
   "id": "489fdb08-ade2-431d-a006-01a35cd861ef",
   "metadata": {},
   "outputs": [],
   "source": [
    "#문자열에 큰 따옴표 포함하기"
   ]
  },
  {
   "cell_type": "code",
   "execution_count": 67,
   "id": "9ede72c9-2a93-458d-a1a2-4cc855f8a37f",
   "metadata": {},
   "outputs": [
    {
     "data": {
      "text/plain": [
       "'\"python is easy\" he says.'"
      ]
     },
     "execution_count": 67,
     "metadata": {},
     "output_type": "execute_result"
    }
   ],
   "source": [
    "'\"python is easy\" he says.'"
   ]
  },
  {
   "cell_type": "code",
   "execution_count": 73,
   "id": "f70dde15-77fa-4b0d-a184-d38aa1e5b2c6",
   "metadata": {},
   "outputs": [
    {
     "data": {
      "text/plain": [
       "\"python's facorite food is perl\""
      ]
     },
     "execution_count": 73,
     "metadata": {},
     "output_type": "execute_result"
    }
   ],
   "source": [
    "#역슬래시를 사용해서 작은따옴표와 큰따옴표문자열에 포함하기. 예외처리\n",
    "food='python\\'s facorite food is perl'\n",
    "food"
   ]
  },
  {
   "cell_type": "code",
   "execution_count": 75,
   "id": "63e93762-6c0f-4cbe-8e0c-43ce38812378",
   "metadata": {},
   "outputs": [],
   "source": [
    "#여러 줄인 문자열을 변수에 대입하고 싶을 때"
   ]
  },
  {
   "cell_type": "code",
   "execution_count": 81,
   "id": "1963cf14-6630-4bd0-b12c-207b451d1158",
   "metadata": {},
   "outputs": [
    {
     "data": {
      "text/plain": [
       "'Life is too short\\nYou need python'"
      ]
     },
     "execution_count": 81,
     "metadata": {},
     "output_type": "execute_result"
    }
   ],
   "source": [
    "#줄바꾸기위한 이스케이프 코드 \\n 삽입하기\n",
    "multiline=\"Life is too short\\nYou need python\"\n",
    "multiline"
   ]
  },
  {
   "cell_type": "code",
   "execution_count": 83,
   "id": "ed849cb1-7805-4064-b2dc-0c36bcc5a102",
   "metadata": {},
   "outputs": [
    {
     "name": "stdout",
     "output_type": "stream",
     "text": [
      "Life is too short\n",
      "You need python\n"
     ]
    }
   ],
   "source": [
    "print(multiline)"
   ]
  },
  {
   "cell_type": "code",
   "execution_count": 85,
   "id": "a6a68d64-dc2d-4ebc-b448-54707b4e2eb7",
   "metadata": {},
   "outputs": [
    {
     "data": {
      "text/plain": [
       "'\\nlife is too short\\n'"
      ]
     },
     "execution_count": 85,
     "metadata": {},
     "output_type": "execute_result"
    }
   ],
   "source": [
    "#2.연속된 작은따옴표 3개 또는 큰따옴표 3개 사용하기\n",
    "'''\n",
    "life is too short\n",
    "'''"
   ]
  },
  {
   "cell_type": "code",
   "execution_count": 87,
   "id": "ec567be0-0d63-4f9c-b607-cbc6413d938a",
   "metadata": {},
   "outputs": [
    {
     "data": {
      "text/plain": [
       "'pythonis fun!'"
      ]
     },
     "execution_count": 87,
     "metadata": {},
     "output_type": "execute_result"
    }
   ],
   "source": [
    "#문자열 연산하기\n",
    "head=\"python\"\n",
    "tail='is fun!'\n",
    "head+tail"
   ]
  },
  {
   "cell_type": "code",
   "execution_count": 89,
   "id": "6c851e7a-65ec-4482-9ab7-c1573efa2c29",
   "metadata": {},
   "outputs": [
    {
     "data": {
      "text/plain": [
       "'pythonpython'"
      ]
     },
     "execution_count": 89,
     "metadata": {},
     "output_type": "execute_result"
    }
   ],
   "source": [
    "head*2"
   ]
  },
  {
   "cell_type": "code",
   "execution_count": 96,
   "id": "8e8f79d0-1b0a-4d84-af3a-40e7d552eaab",
   "metadata": {},
   "outputs": [
    {
     "data": {
      "text/plain": [
       "17"
      ]
     },
     "execution_count": 96,
     "metadata": {},
     "output_type": "execute_result"
    }
   ],
   "source": [
    "a='life is too short'\n",
    "len(a)"
   ]
  },
  {
   "cell_type": "code",
   "execution_count": 106,
   "id": "4a9cde18-6d7e-45ae-a55c-ce8842d5e72a",
   "metadata": {},
   "outputs": [
    {
     "data": {
      "text/plain": [
       "'life is too short, you need python'"
      ]
     },
     "execution_count": 106,
     "metadata": {},
     "output_type": "execute_result"
    }
   ],
   "source": [
    "#문자열 인덱싱과 슬라이싱\n",
    "a=\"life is too short, you need python\"\n",
    "a"
   ]
  },
  {
   "cell_type": "code",
   "execution_count": 108,
   "id": "90f61086-a5ba-4d7b-a13d-4e9406728f4a",
   "metadata": {},
   "outputs": [
    {
     "data": {
      "text/plain": [
       "'e'"
      ]
     },
     "execution_count": 108,
     "metadata": {},
     "output_type": "execute_result"
    }
   ],
   "source": [
    "a[3]"
   ]
  },
  {
   "cell_type": "code",
   "execution_count": 112,
   "id": "8aea5171-4362-4487-b02b-f388e4696ba1",
   "metadata": {},
   "outputs": [
    {
     "data": {
      "text/plain": [
       "','"
      ]
     },
     "execution_count": 112,
     "metadata": {},
     "output_type": "execute_result"
    }
   ],
   "source": [
    "a[17]"
   ]
  },
  {
   "cell_type": "code",
   "execution_count": 116,
   "id": "a50df025-3971-4535-8b63-c95593fdc021",
   "metadata": {},
   "outputs": [
    {
     "data": {
      "text/plain": [
       "'n'"
      ]
     },
     "execution_count": 116,
     "metadata": {},
     "output_type": "execute_result"
    }
   ],
   "source": [
    "a[-1]"
   ]
  },
  {
   "cell_type": "code",
   "execution_count": 120,
   "id": "adf673bf-3230-46ad-8f21-c5bd5aa686c4",
   "metadata": {},
   "outputs": [
    {
     "data": {
      "text/plain": [
       "'li'"
      ]
     },
     "execution_count": 120,
     "metadata": {},
     "output_type": "execute_result"
    }
   ],
   "source": [
    "a[0]+a[1]"
   ]
  },
  {
   "cell_type": "code",
   "execution_count": 134,
   "id": "9b8f34e2-5203-4610-9f67-2ba9029e93dc",
   "metadata": {},
   "outputs": [
    {
     "data": {
      "text/plain": [
       "'life'"
      ]
     },
     "execution_count": 134,
     "metadata": {},
     "output_type": "execute_result"
    }
   ],
   "source": [
    "a[0:4]"
   ]
  },
  {
   "cell_type": "code",
   "execution_count": 140,
   "id": "2a96a5e5-78c7-4cb3-b9c6-2801e279ad9b",
   "metadata": {},
   "outputs": [
    {
     "data": {
      "text/plain": [
       "'short, '"
      ]
     },
     "execution_count": 140,
     "metadata": {},
     "output_type": "execute_result"
    }
   ],
   "source": [
    "a[12:19]"
   ]
  },
  {
   "cell_type": "code",
   "execution_count": 150,
   "id": "0b5979fd-da40-488d-81dc-7e966111bde4",
   "metadata": {},
   "outputs": [
    {
     "data": {
      "text/plain": [
       "'you need'"
      ]
     },
     "execution_count": 150,
     "metadata": {},
     "output_type": "execute_result"
    }
   ],
   "source": [
    "a[19:-7]"
   ]
  },
  {
   "cell_type": "code",
   "execution_count": 179,
   "id": "95b7bc05-6138-4124-80b9-0e45e2ade4e9",
   "metadata": {},
   "outputs": [
    {
     "data": {
      "text/plain": [
       "('20240904', 'sunny')"
      ]
     },
     "execution_count": 179,
     "metadata": {},
     "output_type": "execute_result"
    }
   ],
   "source": [
    "#슬라이싱으로 문자열 나누기\n",
    "a = \"20240904sunny\"\n",
    "date = a[0:8]\n",
    "weather = a[8:13]\n",
    "date, weather"
   ]
  },
  {
   "cell_type": "code",
   "execution_count": 187,
   "id": "d13e3bfe-c38b-49dd-9f95-185c3c88ee30",
   "metadata": {},
   "outputs": [
    {
     "data": {
      "text/plain": [
       "'2024'"
      ]
     },
     "execution_count": 187,
     "metadata": {},
     "output_type": "execute_result"
    }
   ],
   "source": [
    "year=date[0:4]\n",
    "year"
   ]
  },
  {
   "cell_type": "code",
   "execution_count": 191,
   "id": "74ce246b-7058-4e08-b8e6-67a36623cdf2",
   "metadata": {},
   "outputs": [
    {
     "data": {
      "text/plain": [
       "'i'"
      ]
     },
     "execution_count": 191,
     "metadata": {},
     "output_type": "execute_result"
    }
   ],
   "source": [
    "#문자열 변경할 수 있을까? -불가능하다. 문자열만의 특징이다. 즉, immutable 객체다.\n",
    "a=\"pithon\"\n",
    "a[1]"
   ]
  },
  {
   "cell_type": "code",
   "execution_count": 193,
   "id": "5e6e9ca9-17dc-41f5-8afb-ae550a352718",
   "metadata": {},
   "outputs": [
    {
     "ename": "TypeError",
     "evalue": "'str' object does not support item assignment",
     "output_type": "error",
     "traceback": [
      "\u001b[1;31m---------------------------------------------------------------------------\u001b[0m",
      "\u001b[1;31mTypeError\u001b[0m                                 Traceback (most recent call last)",
      "Cell \u001b[1;32mIn[193], line 1\u001b[0m\n\u001b[1;32m----> 1\u001b[0m a[\u001b[38;5;241m1\u001b[39m]\u001b[38;5;241m=\u001b[39m\u001b[38;5;124m'\u001b[39m\u001b[38;5;124my\u001b[39m\u001b[38;5;124m'\u001b[39m\n",
      "\u001b[1;31mTypeError\u001b[0m: 'str' object does not support item assignment"
     ]
    }
   ],
   "source": [
    "a[1]='y'"
   ]
  },
  {
   "cell_type": "code",
   "execution_count": 197,
   "id": "8431078e-2a46-434e-b330-a370772c0a82",
   "metadata": {},
   "outputs": [
    {
     "data": {
      "text/plain": [
       "'Python'"
      ]
     },
     "execution_count": 197,
     "metadata": {},
     "output_type": "execute_result"
    }
   ],
   "source": [
    "a = \"Pithon\"\n",
    "b = \"y\"\n",
    "a[0] + b + a[2:]"
   ]
  },
  {
   "cell_type": "code",
   "execution_count": 201,
   "id": "9bf7d111-037c-412c-a3c9-eec00851c90a",
   "metadata": {},
   "outputs": [
    {
     "data": {
      "text/plain": [
       "'I eat 3 apples'"
      ]
     },
     "execution_count": 201,
     "metadata": {},
     "output_type": "execute_result"
    }
   ],
   "source": [
    "#문자열 포매팅\n",
    "\"I eat %d apples\"%3"
   ]
  },
  {
   "cell_type": "code",
   "execution_count": 205,
   "id": "5347b7b1-1aa0-425a-a0f3-1d5a45984ffc",
   "metadata": {},
   "outputs": [
    {
     "data": {
      "text/plain": [
       "'I eat five apples'"
      ]
     },
     "execution_count": 205,
     "metadata": {},
     "output_type": "execute_result"
    }
   ],
   "source": [
    "\"I eat %s apples\"%\"five\""
   ]
  },
  {
   "cell_type": "code",
   "execution_count": 207,
   "id": "943b7392-6590-4b27-9223-8281f840f23d",
   "metadata": {},
   "outputs": [
    {
     "data": {
      "text/plain": [
       "'I eat 3 apples'"
      ]
     },
     "execution_count": 207,
     "metadata": {},
     "output_type": "execute_result"
    }
   ],
   "source": [
    "number=3\n",
    "\"I eat %d apples\"%number"
   ]
  },
  {
   "cell_type": "code",
   "execution_count": 211,
   "id": "2a205fb0-5f0e-4df8-a009-363f8f4a3778",
   "metadata": {},
   "outputs": [
    {
     "data": {
      "text/plain": [
       "'I ate 10 apples. so I was sick for three days.'"
      ]
     },
     "execution_count": 211,
     "metadata": {},
     "output_type": "execute_result"
    }
   ],
   "source": [
    "number=10\n",
    "day=\"three\"\n",
    "\"I ate %d apples. so I was sick for %s days.\"%(number, day)"
   ]
  },
  {
   "cell_type": "code",
   "execution_count": 215,
   "id": "71cf41a4-e6d0-4592-b0f5-dfbfbeb6cc51",
   "metadata": {},
   "outputs": [
    {
     "data": {
      "text/plain": [
       "'error is 98%'"
      ]
     },
     "execution_count": 215,
     "metadata": {},
     "output_type": "execute_result"
    }
   ],
   "source": [
    "#error is 98%\n",
    "\"error is %d%%\"%98"
   ]
  },
  {
   "cell_type": "code",
   "execution_count": 217,
   "id": "06d03f96-671b-4d5e-9dc3-d83eda588bf0",
   "metadata": {},
   "outputs": [
    {
     "data": {
      "text/plain": [
       "'3.49'"
      ]
     },
     "execution_count": 217,
     "metadata": {},
     "output_type": "execute_result"
    }
   ],
   "source": [
    "#소수점 표현하기\n",
    "\"%0.2f\"%3.486656"
   ]
  },
  {
   "cell_type": "code",
   "execution_count": 221,
   "id": "71aecd81-0ab2-459b-98c0-17fa74f93d58",
   "metadata": {},
   "outputs": [
    {
     "data": {
      "text/plain": [
       "'i eat 3 apples'"
      ]
     },
     "execution_count": 221,
     "metadata": {},
     "output_type": "execute_result"
    }
   ],
   "source": [
    "#포맷함수를 사용한 포매팅\n",
    "\"i eat {0} apples\".format(3)"
   ]
  },
  {
   "cell_type": "code",
   "execution_count": 224,
   "id": "942c90ad-2c62-43e4-8518-47555298c3b7",
   "metadata": {},
   "outputs": [
    {
     "data": {
      "text/plain": [
       "'i eat four apples'"
      ]
     },
     "execution_count": 224,
     "metadata": {},
     "output_type": "execute_result"
    }
   ],
   "source": [
    "\"i eat {0} apples\".format(\"four\")"
   ]
  },
  {
   "cell_type": "code",
   "execution_count": 226,
   "id": "be703145-b07c-4625-8dd5-34c08bee40ee",
   "metadata": {},
   "outputs": [
    {
     "data": {
      "text/plain": [
       "'I ate 10 apples. so I wa sick for three days'"
      ]
     },
     "execution_count": 226,
     "metadata": {},
     "output_type": "execute_result"
    }
   ],
   "source": [
    "\"I ate {} apples. so I wa sick for {} days\". format(number, day)"
   ]
  },
  {
   "cell_type": "code",
   "execution_count": 230,
   "id": "16bd1ea6-6e78-47ad-8f8e-7ba63ac2e695",
   "metadata": {},
   "outputs": [
    {
     "data": {
      "text/plain": [
       "'I ate 10 apples. so I wa sick for three days'"
      ]
     },
     "execution_count": 230,
     "metadata": {},
     "output_type": "execute_result"
    }
   ],
   "source": [
    "\"I ate {a} apples. so I wa sick for {b} days\". format(a=number, b=day)"
   ]
  },
  {
   "cell_type": "code",
   "execution_count": 234,
   "id": "0b968092-8478-4b85-9a67-882dd1fe6621",
   "metadata": {},
   "outputs": [
    {
     "data": {
      "text/plain": [
       "'3.4135'"
      ]
     },
     "execution_count": 234,
     "metadata": {},
     "output_type": "execute_result"
    }
   ],
   "source": [
    "y=3.41355\n",
    "\"{0:0.4f}\".format(y)"
   ]
  },
  {
   "cell_type": "code",
   "execution_count": 236,
   "id": "18d7c128-0883-468c-a9b7-32eb1c4ff608",
   "metadata": {},
   "outputs": [
    {
     "data": {
      "text/plain": [
       "'{and}'"
      ]
     },
     "execution_count": 236,
     "metadata": {},
     "output_type": "execute_result"
    }
   ],
   "source": [
    "\"{{and}}\".format()"
   ]
  },
  {
   "cell_type": "code",
   "execution_count": 244,
   "id": "2524333b-3117-4d7c-9eee-7fa77811c161",
   "metadata": {},
   "outputs": [
    {
     "data": {
      "text/plain": [
       "'나의 이름은 홍길동입니다. 나이는 31입니다.'"
      ]
     },
     "execution_count": 244,
     "metadata": {},
     "output_type": "execute_result"
    }
   ],
   "source": [
    "#f문자열 포매팅 : 나의 이름은 ㅇ입니다. 나이는 ㅇ입니다.\n",
    "name='홍길동'\n",
    "age=31\n",
    "f'나의 이름은 {name}입니다. 나이는 {age}입니다.'"
   ]
  },
  {
   "cell_type": "code",
   "execution_count": 246,
   "id": "21bc7074-fb2d-4639-a8ba-9c9af58b5916",
   "metadata": {},
   "outputs": [
    {
     "data": {
      "text/plain": [
       "{'name': '홍길동', 'age': 30}"
      ]
     },
     "execution_count": 246,
     "metadata": {},
     "output_type": "execute_result"
    }
   ],
   "source": [
    "#딕셔너리 구조\n",
    "d={'name':'홍길동','age':30}\n",
    "d"
   ]
  },
  {
   "cell_type": "code",
   "execution_count": 248,
   "id": "b94df09f-13df-499f-a4c9-a467118e544a",
   "metadata": {},
   "outputs": [
    {
     "data": {
      "text/plain": [
       "'홍길동'"
      ]
     },
     "execution_count": 248,
     "metadata": {},
     "output_type": "execute_result"
    }
   ],
   "source": [
    "d['name']"
   ]
  },
  {
   "cell_type": "code",
   "execution_count": 252,
   "id": "b8b1f844-72d5-4e42-9dfa-ebf8a589560a",
   "metadata": {},
   "outputs": [
    {
     "data": {
      "text/plain": [
       "'나의 이름은 홍길동입니다. 나이는 30 입니다.'"
      ]
     },
     "execution_count": 252,
     "metadata": {},
     "output_type": "execute_result"
    }
   ],
   "source": [
    "f\"나의 이름은 {d['name']}입니다. 나이는 {d['age']} 입니다.\""
   ]
  },
  {
   "cell_type": "code",
   "execution_count": 256,
   "id": "73ccca64-c7d2-48e0-a370-1455bcd0b563",
   "metadata": {},
   "outputs": [
    {
     "data": {
      "text/plain": [
       "'3.4135'"
      ]
     },
     "execution_count": 256,
     "metadata": {},
     "output_type": "execute_result"
    }
   ],
   "source": [
    "y\n",
    "f'{y:0.4f}'"
   ]
  },
  {
   "cell_type": "code",
   "execution_count": 260,
   "id": "55e4089f-2b24-4328-9298-92c2a657ef67",
   "metadata": {},
   "outputs": [
    {
     "data": {
      "text/plain": [
       "5"
      ]
     },
     "execution_count": 260,
     "metadata": {},
     "output_type": "execute_result"
    }
   ],
   "source": [
    "#문자열 관련 함수들\n",
    "a='hobby'\n",
    "len(a)"
   ]
  },
  {
   "cell_type": "code",
   "execution_count": 262,
   "id": "a91c05c7-0381-48c0-97b1-fe5ede4217cd",
   "metadata": {},
   "outputs": [
    {
     "data": {
      "text/plain": [
       "2"
      ]
     },
     "execution_count": 262,
     "metadata": {},
     "output_type": "execute_result"
    }
   ],
   "source": [
    "#특정 문자열 개수를 세기\n",
    "a.count('b')"
   ]
  },
  {
   "cell_type": "code",
   "execution_count": 266,
   "id": "1a3ddda0-be50-4dc1-a805-934e81057918",
   "metadata": {},
   "outputs": [
    {
     "data": {
      "text/plain": [
       "14"
      ]
     },
     "execution_count": 266,
     "metadata": {},
     "output_type": "execute_result"
    }
   ],
   "source": [
    "#위치 알려주기\n",
    "a='python is the best choice'\n",
    "a.find('b')"
   ]
  },
  {
   "cell_type": "code",
   "execution_count": 270,
   "id": "34801777-fe3b-436c-a184-0a55f9780604",
   "metadata": {},
   "outputs": [
    {
     "data": {
      "text/plain": [
       "-1"
      ]
     },
     "execution_count": 270,
     "metadata": {},
     "output_type": "execute_result"
    }
   ],
   "source": [
    "a. find('k')"
   ]
  },
  {
   "cell_type": "code",
   "execution_count": 272,
   "id": "94ba0a58-a1ca-4284-9f4f-653500312010",
   "metadata": {},
   "outputs": [
    {
     "data": {
      "text/plain": [
       "\u001b[1;31mDocstring:\u001b[0m\n",
       "S.find(sub[, start[, end]]) -> int\n",
       "\n",
       "Return the lowest index in S where substring sub is found,\n",
       "such that sub is contained within S[start:end].  Optional\n",
       "arguments start and end are interpreted as in slice notation.\n",
       "\n",
       "Return -1 on failure.\n",
       "\u001b[1;31mType:\u001b[0m      builtin_function_or_method"
      ]
     },
     "metadata": {},
     "output_type": "display_data"
    }
   ],
   "source": [
    "a.find?"
   ]
  },
  {
   "cell_type": "code",
   "execution_count": 278,
   "id": "1cc66fac-bab3-4bbc-aef1-cec611ca718d",
   "metadata": {},
   "outputs": [
    {
     "name": "stdout",
     "output_type": "stream",
     "text": [
      "Help on built-in function find:\n",
      "\n",
      "find(...) method of builtins.str instance\n",
      "    S.find(sub[, start[, end]]) -> int\n",
      "\n",
      "    Return the lowest index in S where substring sub is found,\n",
      "    such that sub is contained within S[start:end].  Optional\n",
      "    arguments start and end are interpreted as in slice notation.\n",
      "\n",
      "    Return -1 on failure.\n",
      "\n"
     ]
    }
   ],
   "source": [
    "help(a.find)"
   ]
  },
  {
   "cell_type": "code",
   "execution_count": 286,
   "id": "015912c5-60d2-4b3c-8e28-43a8a1ef502c",
   "metadata": {},
   "outputs": [
    {
     "data": {
      "text/plain": [
       "(8, 8)"
      ]
     },
     "execution_count": 286,
     "metadata": {},
     "output_type": "execute_result"
    }
   ],
   "source": [
    "#위치 알려주기 - 인덱스는 없는걸 찾으면 에러가 난다. find는 없어도 에러는 안난다.\n",
    "a='life is too short'\n",
    "a.index('t'), a.find('t')"
   ]
  },
  {
   "cell_type": "code",
   "execution_count": 290,
   "id": "fd5e8e71-e72a-4508-9d65-408d87cfc378",
   "metadata": {},
   "outputs": [
    {
     "data": {
      "text/plain": [
       "-1"
      ]
     },
     "execution_count": 290,
     "metadata": {},
     "output_type": "execute_result"
    }
   ],
   "source": [
    "a.find('k')"
   ]
  },
  {
   "cell_type": "code",
   "execution_count": 294,
   "id": "5eae3105-be7a-4577-b56a-4b0618a90750",
   "metadata": {},
   "outputs": [
    {
     "data": {
      "text/plain": [
       "'abcd'"
      ]
     },
     "execution_count": 294,
     "metadata": {},
     "output_type": "execute_result"
    }
   ],
   "source": [
    "#문자열 삽입 join\n",
    "'abcd'"
   ]
  },
  {
   "cell_type": "code",
   "execution_count": 296,
   "id": "d1f6d24a-2f5b-4db8-ab7b-a89dbdf99ef0",
   "metadata": {},
   "outputs": [
    {
     "data": {
      "text/plain": [
       "'a,b,c,d'"
      ]
     },
     "execution_count": 296,
     "metadata": {},
     "output_type": "execute_result"
    }
   ],
   "source": [
    "#반드시 문자열로 반환합니다.\n",
    "','.join('abcd')"
   ]
  },
  {
   "cell_type": "code",
   "execution_count": 298,
   "id": "94ae7d66-f046-4dd5-a70d-dea6d2c2ad8d",
   "metadata": {},
   "outputs": [
    {
     "data": {
      "text/plain": [
       "'HI'"
      ]
     },
     "execution_count": 298,
     "metadata": {},
     "output_type": "execute_result"
    }
   ],
   "source": [
    "a=\"hi\"\n",
    "a.upper()"
   ]
  },
  {
   "cell_type": "code",
   "execution_count": 300,
   "id": "9bada24b-3a80-4a1d-b8e3-fb2a1d9f7e18",
   "metadata": {},
   "outputs": [
    {
     "data": {
      "text/plain": [
       "'       hi'"
      ]
     },
     "execution_count": 300,
     "metadata": {},
     "output_type": "execute_result"
    }
   ],
   "source": [
    "#공백 지우기 - 스키마 지정으로 인한 자리수 지정때문에 공백이 생길 수 있다\n",
    "a=\"       hi         \"\n",
    "a.rstrip()"
   ]
  },
  {
   "cell_type": "code",
   "execution_count": 302,
   "id": "7a0ca2f9-3f95-409d-8bc3-dfbe7be96719",
   "metadata": {},
   "outputs": [
    {
     "data": {
      "text/plain": [
       "'hi         '"
      ]
     },
     "execution_count": 302,
     "metadata": {},
     "output_type": "execute_result"
    }
   ],
   "source": [
    "a.lstrip()"
   ]
  },
  {
   "cell_type": "code",
   "execution_count": 306,
   "id": "080f5731-5c5c-430c-990a-f33c09df9e77",
   "metadata": {},
   "outputs": [
    {
     "data": {
      "text/plain": [
       "'hi'"
      ]
     },
     "execution_count": 306,
     "metadata": {},
     "output_type": "execute_result"
    }
   ],
   "source": [
    "a.strip()"
   ]
  },
  {
   "cell_type": "code",
   "execution_count": 314,
   "id": "11516a47-dad5-4437-8887-efc0b5480f21",
   "metadata": {},
   "outputs": [
    {
     "data": {
      "text/plain": [
       "'your leg is too short'"
      ]
     },
     "execution_count": 314,
     "metadata": {},
     "output_type": "execute_result"
    }
   ],
   "source": [
    "#문자는 원래 immutable 하지만 이 메소드는 가능하게 한다.\n",
    "a=\"life is too short\"\n",
    "a.replace(\"life\", \"your leg\")"
   ]
  },
  {
   "cell_type": "code",
   "execution_count": 318,
   "id": "ad389efd-3dec-4636-9770-49e0ce525a36",
   "metadata": {},
   "outputs": [
    {
     "data": {
      "text/plain": [
       "'life is too short'"
      ]
     },
     "execution_count": 318,
     "metadata": {},
     "output_type": "execute_result"
    }
   ],
   "source": [
    "#문자열 나누기\n",
    "a"
   ]
  },
  {
   "cell_type": "code",
   "execution_count": 320,
   "id": "51310516-a9bb-42d3-97d3-1179ad1e8b6a",
   "metadata": {},
   "outputs": [
    {
     "data": {
      "text/plain": [
       "['life', 'is', 'too', 'short']"
      ]
     },
     "execution_count": 320,
     "metadata": {},
     "output_type": "execute_result"
    }
   ],
   "source": [
    "a.split() #리스트로 반환"
   ]
  },
  {
   "cell_type": "code",
   "execution_count": 326,
   "id": "fddf8d21-8e0d-4d81-a9da-d8a1cf89512a",
   "metadata": {},
   "outputs": [
    {
     "data": {
      "text/plain": [
       "['a', 'b', 'v', 'd']"
      ]
     },
     "execution_count": 326,
     "metadata": {},
     "output_type": "execute_result"
    }
   ],
   "source": [
    "b=\"a:b:v:d\"\n",
    "b.split(sep=':')"
   ]
  },
  {
   "cell_type": "code",
   "execution_count": null,
   "id": "2482b16a-9167-4bb7-9fca-bc60684232ac",
   "metadata": {},
   "outputs": [],
   "source": []
  }
 ],
 "metadata": {
  "kernelspec": {
   "display_name": "Python 3 (ipykernel)",
   "language": "python",
   "name": "python3"
  },
  "language_info": {
   "codemirror_mode": {
    "name": "ipython",
    "version": 3
   },
   "file_extension": ".py",
   "mimetype": "text/x-python",
   "name": "python",
   "nbconvert_exporter": "python",
   "pygments_lexer": "ipython3",
   "version": "3.12.4"
  }
 },
 "nbformat": 4,
 "nbformat_minor": 5
}
