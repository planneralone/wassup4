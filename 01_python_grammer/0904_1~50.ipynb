{
 "cells": [
  {
   "cell_type": "code",
   "execution_count": null,
   "id": "b40ce7fe-d00d-49b5-90b1-2cafdfda3f7f",
   "metadata": {},
   "outputs": [],
   "source": [
    "# 과제: 초보자를 위한 파이썬 300제 중 1~50번 풀기\n",
    "# 과제일: 240904\n",
    "# 문제 원본:https://wikidocs.net/book/922"
   ]
  },
  {
   "cell_type": "code",
   "execution_count": 25,
   "id": "7c59d26f-40ef-463f-bcb8-dc787d6ad8c2",
   "metadata": {},
   "outputs": [
    {
     "name": "stdout",
     "output_type": "stream",
     "text": [
      "Hello World\n"
     ]
    }
   ],
   "source": [
    "#001. 화면에 Hello World 문자열을 출력하세요.\n",
    "print(\"Hello World\")"
   ]
  },
  {
   "cell_type": "code",
   "execution_count": 27,
   "id": "d9e9b5eb-1e58-4028-aaad-61d128c6e358",
   "metadata": {},
   "outputs": [
    {
     "name": "stdout",
     "output_type": "stream",
     "text": [
      "Mary's cosmetics\n"
     ]
    }
   ],
   "source": [
    "#002. 화면에 Mary's cosmetics을 출력하세요. (중간에 '가 있음에 주의하세요)\n",
    "print(\"Mary's cosmetics\")"
   ]
  },
  {
   "cell_type": "code",
   "execution_count": 29,
   "id": "27ceb98a-5e92-40fd-bc9b-d1ff1ede226f",
   "metadata": {},
   "outputs": [
    {
     "name": "stdout",
     "output_type": "stream",
     "text": [
      "신씨가 소리질렀다. \"도둑이야\".\n"
     ]
    }
   ],
   "source": [
    "#003. 화면에 아래 문장을 출력하세요. (중간에 \"가 있음에 주의하세요.) 신씨가 소리질렀다. \"도둑이야\".\n",
    "print('신씨가 소리질렀다. \"도둑이야\".')"
   ]
  },
  {
   "cell_type": "code",
   "execution_count": 35,
   "id": "5b856c6e-6697-4e16-a8fb-f0b865273a52",
   "metadata": {},
   "outputs": [
    {
     "name": "stdout",
     "output_type": "stream",
     "text": [
      "C:\\Windows\n"
     ]
    }
   ],
   "source": [
    "#004. 화면에 C:\\Windows를 출력하세요.\n",
    "print(\"C:\\\\Windows\")"
   ]
  },
  {
   "cell_type": "code",
   "execution_count": 37,
   "id": "301b4870-1c7a-4873-9a83-7b0d7997d253",
   "metadata": {},
   "outputs": [
    {
     "name": "stdout",
     "output_type": "stream",
     "text": [
      "안녕하세요.\n",
      "만나서\t\t반갑습니다.\n"
     ]
    }
   ],
   "source": [
    "#005. 다음 코드를 실행해보고 \\t와 \\n의 역할을 설명해보세요. print(\"안녕하세요.\\n만나서\\t\\t반갑습니다.\")\n",
    "print(\"안녕하세요.\\n만나서\\t\\t반갑습니다.\")"
   ]
  },
  {
   "cell_type": "code",
   "execution_count": 39,
   "id": "b53839c6-372c-4ebd-95e9-11ff4ca6c627",
   "metadata": {},
   "outputs": [
    {
     "name": "stdout",
     "output_type": "stream",
     "text": [
      "오늘은 일요일\n"
     ]
    }
   ],
   "source": [
    "#006. print 함수에 두 개의 단어를 입력한 예제입니다. 아래 코드의 출력 결과를 예상해봅시다. print (\"오늘은\", \"일요일\")\n",
    "print (\"오늘은\", \"일요일\")"
   ]
  },
  {
   "cell_type": "code",
   "execution_count": 47,
   "id": "9192c141-14ec-485d-a2e8-663c89865af9",
   "metadata": {},
   "outputs": [
    {
     "name": "stdout",
     "output_type": "stream",
     "text": [
      "naver;kakao;sk;samsung\n"
     ]
    }
   ],
   "source": [
    "#007. print() 함수를 사용하여 다음과 같이 출력하세요. naver;kakao;sk;samsung\n",
    "print(\"naver\",\"kakao\",\"sk\",\"samsung\",sep=\";\")"
   ]
  },
  {
   "cell_type": "code",
   "execution_count": 49,
   "id": "10173a11-6518-495d-9bd6-85163ee78c35",
   "metadata": {},
   "outputs": [
    {
     "name": "stdout",
     "output_type": "stream",
     "text": [
      "naver/kakao/sk/samsung\n"
     ]
    }
   ],
   "source": [
    "#008. print() 함수를 사용하여 다음과 같이 출력하세요. naver/kakao/sk/samsung\n",
    "print(\"naver\",\"kakao\",\"sk\",\"samsung\",sep=\"/\")"
   ]
  },
  {
   "cell_type": "code",
   "execution_count": 153,
   "id": "c93602d1-5ff5-4770-b6d2-892db30bae17",
   "metadata": {},
   "outputs": [
    {
     "name": "stdout",
     "output_type": "stream",
     "text": [
      "firstsecond\n"
     ]
    }
   ],
   "source": [
    "#009. 다음 코드를 수정하여 줄바꿈이 없이 출력하세요. (힌트: end='') print 함수는 두 번 사용합니다. 세미콜론 (;)은 한줄에 여러 개의 명령을 작성하기 위해 사용합니다.print(\"first\");print(\"second\")\n",
    "print(\"first\", end=\"\"); print(\"second\")"
   ]
  },
  {
   "cell_type": "code",
   "execution_count": 147,
   "id": "fbae05af-1854-4435-a476-72196246971f",
   "metadata": {},
   "outputs": [
    {
     "name": "stdout",
     "output_type": "stream",
     "text": [
      "1.6666666666666667\n"
     ]
    }
   ],
   "source": [
    "#010. 5/3의 결과를 화면에 출력하세요.\n",
    "print(5/3)"
   ]
  },
  {
   "cell_type": "code",
   "execution_count": 157,
   "id": "9d0a98d1-3c03-4d3f-864a-93dceb916c5d",
   "metadata": {},
   "outputs": [
    {
     "name": "stdout",
     "output_type": "stream",
     "text": [
      "500000\n"
     ]
    }
   ],
   "source": [
    "#011. 삼성전자라는 변수로 50,000원을 바인딩해보세요. 삼성전자 주식 10주를 보유하고 있을 때 총 평가금액을 출력하세요.\n",
    "삼성전자=50000\n",
    "총평가금액=삼성전자*10\n",
    "print(총평가금액)"
   ]
  },
  {
   "cell_type": "code",
   "execution_count": null,
   "id": "dc5cf02e-1624-4b3b-bce9-589d0389691b",
   "metadata": {},
   "outputs": [],
   "source": [
    "#012. 다음 표는 삼성전자의 일부 투자정보입니다. 변수를 사용해서 시가총액, 현재가, PER 등을 바인딩해보세요."
   ]
  },
  {
   "cell_type": "code",
   "execution_count": 143,
   "id": "b2a47e63-9599-4871-a0b3-bf922ceec8d9",
   "metadata": {},
   "outputs": [
    {
     "name": "stdout",
     "output_type": "stream",
     "text": [
      "hello! python\n"
     ]
    }
   ],
   "source": [
    "#013. 변수 s와 t에는 각각 문자열이 바인딩 되어있습니다. 두 변수를 이용하여 아래와 같이 출력해보세요. hello! python\n",
    "s = \"hello\"\n",
    "t = \"python\"\n",
    "print(s+\"!\", t)"
   ]
  },
  {
   "cell_type": "code",
   "execution_count": 145,
   "id": "5251aabb-e6d3-4d58-8cd1-c7f96b1e3977",
   "metadata": {},
   "outputs": [
    {
     "name": "stdout",
     "output_type": "stream",
     "text": [
      "8\n"
     ]
    }
   ],
   "source": [
    "#014. 아래 코드의 실행 결과를 예상해보세요. >> 2 + 2 * 3 \n",
    "print(2 + 2 * 3 )"
   ]
  },
  {
   "cell_type": "code",
   "execution_count": 159,
   "id": "16527540-53e4-4b54-a322-19d911958811",
   "metadata": {},
   "outputs": [
    {
     "name": "stdout",
     "output_type": "stream",
     "text": [
      "<class 'str'>\n"
     ]
    }
   ],
   "source": [
    "#015. type() 함수는 데이터 타입을 판별합니다. 아래 변수에 바인딩된 값의 타입을 판별해보세요. >> a = \"132\"\n",
    "a=\"132\"\n",
    "print(type(a))"
   ]
  },
  {
   "cell_type": "code",
   "execution_count": 169,
   "id": "20726d1c-854e-435d-8942-2bd26b447585",
   "metadata": {},
   "outputs": [
    {
     "name": "stdout",
     "output_type": "stream",
     "text": [
      "720\n",
      "<class 'int'>\n"
     ]
    }
   ],
   "source": [
    "#016. 문자열 '720'를 정수형으로 변환해보세요. >> num_str = \"720\"\n",
    "num_str = \"720\"  #형변환\n",
    "num_int = int(num_str)\n",
    "print(num_int)\n",
    "print(type(num_int))"
   ]
  },
  {
   "cell_type": "code",
   "execution_count": 175,
   "id": "9e8afb8e-c329-4ee3-aafd-474aab65d21a",
   "metadata": {},
   "outputs": [
    {
     "name": "stdout",
     "output_type": "stream",
     "text": [
      "100 <class 'str'>\n"
     ]
    }
   ],
   "source": [
    "#017. 정수 100을 문자열 '100'으로 변환해보세요.\n",
    "num=100\n",
    "result=str(num)\n",
    "print(result,type(result))"
   ]
  },
  {
   "cell_type": "code",
   "execution_count": 185,
   "id": "328edbec-39f1-480b-8582-2237708c0ca2",
   "metadata": {},
   "outputs": [
    {
     "name": "stdout",
     "output_type": "stream",
     "text": [
      "15.79 <class 'float'>\n"
     ]
    }
   ],
   "source": [
    "#018. 문자열 \"15.79\"를 실수(float) 타입으로 변환해보세요.\n",
    "text=\"15.79\"\n",
    "text=float(text)\n",
    "print(text,type(text))"
   ]
  },
  {
   "cell_type": "code",
   "execution_count": 189,
   "id": "cca8f728-72c8-4495-97fe-62f285613221",
   "metadata": {},
   "outputs": [
    {
     "name": "stdout",
     "output_type": "stream",
     "text": [
      "2017\n",
      "2018\n",
      "2019\n"
     ]
    }
   ],
   "source": [
    "#019. year라는 변수가 문자열 타입의 연도를 바인딩하고 있습니다. 이를 정수로 변환한 후 최근 3년의 연도를 화면에 출력해보세요.\n",
    "print(int(year)-3)\n",
    "print(int(year)-2)\n",
    "print(int(year)-1)"
   ]
  },
  {
   "cell_type": "code",
   "execution_count": 195,
   "id": "c6ea7379-1481-40d5-9bd6-7c3ba0d9641a",
   "metadata": {},
   "outputs": [
    {
     "name": "stdout",
     "output_type": "stream",
     "text": [
      "1749024\n"
     ]
    }
   ],
   "source": [
    "#020. 에이컨이 월 48,584원에 무이자 36개월의 조건으로 홈쇼핑에서 판매되고 있습니다. 총 금액은 계산한 후 이를 화면에 출력해보세요. (변수사용하기)\n",
    "월=48584\n",
    "총금액=월*36\n",
    "print(총금액)"
   ]
  },
  {
   "cell_type": "code",
   "execution_count": 197,
   "id": "70679870-5e2c-46e7-b553-1b276d7c2b41",
   "metadata": {},
   "outputs": [
    {
     "name": "stdout",
     "output_type": "stream",
     "text": [
      "p t\n"
     ]
    }
   ],
   "source": [
    "#021. letters가 바인딩하는 문자열에서 첫번째와 세번째 문자를 출력하세요.>> letters = 'python'\n",
    "letters = 'python'\n",
    "print(letters[0],letters[2])"
   ]
  },
  {
   "cell_type": "code",
   "execution_count": 205,
   "id": "1d411ad7-ec06-4628-aed3-d1f7d0ef79ab",
   "metadata": {},
   "outputs": [
    {
     "name": "stdout",
     "output_type": "stream",
     "text": [
      "2210\n"
     ]
    }
   ],
   "source": [
    "#022. 자동차 번호가 다음과 같을 때 뒤에 4자리만 출력하세요. >> license_plate = \"24가 2210\"\n",
    "license_plate = \"24가 2210\"\n",
    "print(license_plate[-4:])"
   ]
  },
  {
   "cell_type": "code",
   "execution_count": 217,
   "id": "50bc3015-e7e1-4a09-95eb-31888be10014",
   "metadata": {},
   "outputs": [
    {
     "name": "stdout",
     "output_type": "stream",
     "text": [
      "홀홀\n"
     ]
    }
   ],
   "source": [
    "#023. 아래의 문자열에서 '홀' 만 출력하세요. >> string = \"홀짝홀짝홀짝\"' \n",
    "string = \"홀짝홀짝홀짝\"\n",
    "print(string[::4])"
   ]
  },
  {
   "cell_type": "code",
   "execution_count": 211,
   "id": "34174e1a-5000-42a1-893a-58fae5e440f6",
   "metadata": {},
   "outputs": [
    {
     "name": "stdout",
     "output_type": "stream",
     "text": [
      "NOHTYP\n"
     ]
    }
   ],
   "source": [
    "#024. 문자열을 거꾸로 뒤집어 출력하세요. >> string = \"PYTHON\"\n",
    "string = \"PYTHON\"\n",
    "print(string[::-1])"
   ]
  },
  {
   "cell_type": "code",
   "execution_count": 223,
   "id": "7ed46f55-68cf-4921-b117-f84e82c9da0c",
   "metadata": {},
   "outputs": [
    {
     "name": "stdout",
     "output_type": "stream",
     "text": [
      "010 1111 2222\n"
     ]
    }
   ],
   "source": [
    "#025. 아래의 전화번호에서 하이푼 ('-')을 제거하고 출력하세요. >> phone_number = \"010-1111-2222\"\n",
    "phone_number = \"010-1111-2222\"\n",
    "phone_number_new = phone_number.replace(\"-\",\" \")\n",
    "print(phone_number_new)"
   ]
  },
  {
   "cell_type": "code",
   "execution_count": 225,
   "id": "00c5143d-e042-445f-b947-616e4e85cdd1",
   "metadata": {},
   "outputs": [
    {
     "name": "stdout",
     "output_type": "stream",
     "text": [
      "01011112222\n"
     ]
    }
   ],
   "source": [
    "#026. 25번 문제의 전화번호를 아래와 같이 모두 붙여 출력하세요.\n",
    "phone_number = \"010-1111-2222\"\n",
    "phone_number_new = phone_number.replace(\"-\",\"\")\n",
    "print(phone_number_new)"
   ]
  },
  {
   "cell_type": "code",
   "execution_count": 231,
   "id": "85f37f07-7af5-42da-8b4c-22e651350d6f",
   "metadata": {},
   "outputs": [
    {
     "name": "stdout",
     "output_type": "stream",
     "text": [
      "kr\n"
     ]
    }
   ],
   "source": [
    "#027.url 에 저장된 웹 페이지 주소에서 도메인을 출력하세요. >> url = \"http://sharebook.kr\"\n",
    "url = \"http://sharebook.kr\"\n",
    "url_split=url.split('.')\n",
    "print(url_split[-1])"
   ]
  },
  {
   "cell_type": "code",
   "execution_count": 233,
   "id": "85d73406-8be1-4ad9-a201-bb0480faff02",
   "metadata": {},
   "outputs": [
    {
     "ename": "TypeError",
     "evalue": "'str' object does not support item assignment",
     "output_type": "error",
     "traceback": [
      "\u001b[1;31m---------------------------------------------------------------------------\u001b[0m",
      "\u001b[1;31mTypeError\u001b[0m                                 Traceback (most recent call last)",
      "Cell \u001b[1;32mIn[233], line 3\u001b[0m\n\u001b[0;32m      1\u001b[0m \u001b[38;5;66;03m#028.아래 코드의 실행 결과를 예상해보세요.\u001b[39;00m\n\u001b[0;32m      2\u001b[0m lang \u001b[38;5;241m=\u001b[39m \u001b[38;5;124m'\u001b[39m\u001b[38;5;124mpython\u001b[39m\u001b[38;5;124m'\u001b[39m\n\u001b[1;32m----> 3\u001b[0m lang[\u001b[38;5;241m0\u001b[39m] \u001b[38;5;241m=\u001b[39m \u001b[38;5;124m'\u001b[39m\u001b[38;5;124mP\u001b[39m\u001b[38;5;124m'\u001b[39m\n\u001b[0;32m      4\u001b[0m \u001b[38;5;28mprint\u001b[39m(lang)\n",
      "\u001b[1;31mTypeError\u001b[0m: 'str' object does not support item assignment"
     ]
    }
   ],
   "source": [
    "#028.아래 코드의 실행 결과를 예상해보세요.\n",
    "lang = 'python'\n",
    "lang[0] = 'P'\n",
    "print(lang)"
   ]
  },
  {
   "cell_type": "code",
   "execution_count": 235,
   "id": "698fc8ed-25d1-4cba-b00d-aeffe24ac654",
   "metadata": {},
   "outputs": [
    {
     "name": "stdout",
     "output_type": "stream",
     "text": [
      "Abcdfe2A354A32A\n"
     ]
    }
   ],
   "source": [
    "#029.아래 문자열에서 소문자 'a'를 대문자 'A'로 변경하세요.\n",
    "string = 'abcdfe2a354a32a'\n",
    "string = string.replace('a','A')\n",
    "print(string)"
   ]
  },
  {
   "cell_type": "code",
   "execution_count": 237,
   "id": "6f0d3dc3-e7a0-4fc9-ac2b-bec3a62f77f0",
   "metadata": {},
   "outputs": [
    {
     "name": "stdout",
     "output_type": "stream",
     "text": [
      "abcd\n"
     ]
    }
   ],
   "source": [
    "#030.아래 코드의 실행 결과를 예상해보세요.\n",
    "string = 'abcd'\n",
    "string.replace('b', 'B')\n",
    "print(string)"
   ]
  },
  {
   "cell_type": "code",
   "execution_count": 241,
   "id": "b579ecaa-354b-4b05-b4b3-8c1c64c4ca9d",
   "metadata": {},
   "outputs": [
    {
     "name": "stdout",
     "output_type": "stream",
     "text": [
      "34\n"
     ]
    }
   ],
   "source": [
    "#031.문자열 합치기. 아래 코드의 실행 결과를 예상해보세요.\n",
    "a = \"3\"\n",
    "b = \"4\"\n",
    "print(a + b)"
   ]
  },
  {
   "cell_type": "code",
   "execution_count": 243,
   "id": "13469351-1ad9-4d1d-b975-3d6919c06623",
   "metadata": {},
   "outputs": [
    {
     "name": "stdout",
     "output_type": "stream",
     "text": [
      "HiHiHi\n"
     ]
    }
   ],
   "source": [
    "#032.문자열 곱하기. 아래 코드의 실행 결과를 예상해보세요.\n",
    "print(\"Hi\" * 3)"
   ]
  },
  {
   "cell_type": "code",
   "execution_count": 245,
   "id": "fb5b96d3-5461-4faf-9a0a-05124debfb18",
   "metadata": {},
   "outputs": [
    {
     "name": "stdout",
     "output_type": "stream",
     "text": [
      "--------------------------------------------------------------------------------\n"
     ]
    }
   ],
   "source": [
    "#033.문자열 곱하기. 화면에 '-'를 80개 출력하세요.\n",
    "print(\"-\"*80)"
   ]
  },
  {
   "cell_type": "code",
   "execution_count": 251,
   "id": "4fe3c22e-f690-41f6-9f76-47cedf2d3b18",
   "metadata": {},
   "outputs": [
    {
     "name": "stdout",
     "output_type": "stream",
     "text": [
      "python java python java python java \n"
     ]
    }
   ],
   "source": [
    "#034.변수에 다음과 같은 문자열이 바인딩되어 있습니다.\n",
    "#>>> t1 = 'python'\n",
    "#>>> t2 = 'java'\n",
    "#변수에 문자열 더하기와 문자열 곱하기를 사용해서 아래와 같이 출력해보세요.\n",
    "#실행 예: python java python java python java python java\n",
    "\n",
    "t1 = 'python'\n",
    "t2 = 'java'\n",
    "t3 = t1+' '+t2+' '\n",
    "print(t3*3)"
   ]
  },
  {
   "cell_type": "code",
   "execution_count": 257,
   "id": "08814f45-cc7e-4b81-8646-c7c3362a2475",
   "metadata": {},
   "outputs": [
    {
     "name": "stdout",
     "output_type": "stream",
     "text": [
      "이름:김민수 나이: 10\n",
      "이름:이철희 나이: 13\n"
     ]
    }
   ],
   "source": [
    "#035.변수에 다음과 같이 문자열과 정수가 바인딩되어 있을 때 % formatting을 사용해서 다음과 같이 출력해보세요.\n",
    "#name1 = \"김민수\" \n",
    "#age1 = 10\n",
    "#name2 = \"이철희\"\n",
    "#age2 = 13\n",
    "\n",
    "# 이름: 김민수 나이: 10\n",
    "# 이름: 이철희 나이: 13\n",
    "\n",
    "name1 = \"김민수\" \n",
    "age1 = 10\n",
    "name2 = \"이철희\"\n",
    "age2 = 13\n",
    "print(\"이름:%s 나이: %d\" %(name1, age1))\n",
    "print(\"이름:%s 나이: %d\" %(name2, age2))"
   ]
  },
  {
   "cell_type": "code",
   "execution_count": 259,
   "id": "f110de32-9bec-466e-b577-685f248dabfb",
   "metadata": {},
   "outputs": [
    {
     "name": "stdout",
     "output_type": "stream",
     "text": [
      "이름: 김민수 나이: 10\n",
      "이름: 이철희 나이: 13\n"
     ]
    }
   ],
   "source": [
    "#036.문자열의 format( ) 메서드를 사용해서 035번 문제를 다시 풀어보세요.\n",
    "name1 = \"김민수\" \n",
    "age1 = 10\n",
    "name2 = \"이철희\"\n",
    "age2 = 13\n",
    "print(\"이름: {} 나이: {}\".format(name1, age1))\n",
    "print(\"이름: {} 나이: {}\".format(name2, age2))"
   ]
  },
  {
   "cell_type": "code",
   "execution_count": 261,
   "id": "8dc021ef-b0f6-4d5f-bb1c-2e0a68e44cdf",
   "metadata": {},
   "outputs": [
    {
     "name": "stdout",
     "output_type": "stream",
     "text": [
      "이름: 김민수 나이: 10\n",
      "이름: 이철희 나이: 13\n"
     ]
    }
   ],
   "source": [
    "#037.파이썬 3.6부터 지원하는 f-string을 사용해서 035번 문제를 다시 풀어보세요.\n",
    "name1 = \"김민수\" \n",
    "age1 = 10\n",
    "name2 = \"이철희\"\n",
    "age2 = 13\n",
    "print(f\"이름: {name1} 나이: {age1}\")\n",
    "print(f\"이름: {name2} 나이: {age2}\")"
   ]
  },
  {
   "cell_type": "code",
   "execution_count": 267,
   "id": "7def6072-7faa-4fcd-a4a8-696740c983aa",
   "metadata": {},
   "outputs": [
    {
     "name": "stdout",
     "output_type": "stream",
     "text": [
      "5969782550 <class 'int'>\n"
     ]
    }
   ],
   "source": [
    "#038.삼성전자의 상장주식수가 다음과 같습니다. 컴마를 제거한 후 이를 정수 타입으로 변환해보세요.\n",
    "상장주식수 = \"5,969,782,550\"\n",
    "상장주식수_컴마제거 = 상장주식수.replace(\",\",\"\")\n",
    "상장주식수_컴마제거 = int(상장주식수_컴마제거)\n",
    "print(상장주식수_컴마제거,type(상장주식수_컴마제거))"
   ]
  },
  {
   "cell_type": "code",
   "execution_count": 269,
   "id": "36be5a91-d2a6-41d7-b332-986d6b9d6199",
   "metadata": {},
   "outputs": [
    {
     "name": "stdout",
     "output_type": "stream",
     "text": [
      "2020/03\n"
     ]
    }
   ],
   "source": [
    "#039.다음과 같은 문자열에서 '2020/03'만 출력하세요.\n",
    "분기 = \"2020/03(E) (IFRS연결)\"\n",
    "print(분기[:7]"
   ]
  },
  {
   "cell_type": "code",
   "execution_count": 273,
   "id": "769ccbf5-4247-4845-80d4-64af55d24c56",
   "metadata": {},
   "outputs": [
    {
     "name": "stdout",
     "output_type": "stream",
     "text": [
      "삼성전자\n"
     ]
    }
   ],
   "source": [
    "#040.문자열의 좌우의 공백이 있을 때 이를 제거해보세요.\n",
    "data = \"   삼성전자    \"\n",
    "data1=data.strip()\n",
    "print(data1)"
   ]
  },
  {
   "cell_type": "code",
   "execution_count": 277,
   "id": "75194cb9-7031-46d4-bcf2-1f62f72de3c2",
   "metadata": {},
   "outputs": [
    {
     "name": "stdout",
     "output_type": "stream",
     "text": [
      "BTC_KRW\n"
     ]
    }
   ],
   "source": [
    "#041.upper 메서드.다음과 같은 문자열이 있을 때 이를 대문자 BTC_KRW로 변경하세요.\n",
    "ticker = \"btc_krw\"\n",
    "ticker1 = ticker.upper()\n",
    "print(ticker1)"
   ]
  },
  {
   "cell_type": "code",
   "execution_count": 279,
   "id": "956a3642-631d-4abe-9d88-a3338f9bcbae",
   "metadata": {},
   "outputs": [
    {
     "name": "stdout",
     "output_type": "stream",
     "text": [
      "btc_krw\n"
     ]
    }
   ],
   "source": [
    "#042.lower 메서드.다음과 같은 문자열이 있을 때 이를 소문자 btc_krw로 변경하세요.\n",
    "ticker = \"BTC_KRW\"\n",
    "ticker1 = ticker.lower()\n",
    "print(ticker1)"
   ]
  },
  {
   "cell_type": "code",
   "execution_count": 293,
   "id": "7a667d26-c454-4f04-a406-26b91f5a5352",
   "metadata": {},
   "outputs": [],
   "source": [
    "#043.capitalize 메서드.문자열 'hello'가 있을 때 이를 'Hello'로 변경해보세요.\n",
    "a = \"hello\"\n",
    "a = a.capitalize()"
   ]
  },
  {
   "cell_type": "code",
   "execution_count": 295,
   "id": "4c154c0a-86e4-4845-aa70-c4dd117de95c",
   "metadata": {},
   "outputs": [
    {
     "data": {
      "text/plain": [
       "True"
      ]
     },
     "execution_count": 295,
     "metadata": {},
     "output_type": "execute_result"
    }
   ],
   "source": [
    "#044.endswith 메서드.파일 이름이 문자열로 저장되어 있을 때 endswith 메서드를 사용해서 파일 이름이 'xlsx'로 끝나는지 확인해보세요.\n",
    "file_name = \"보고서.xlsx\"\n",
    "file_name.endswith(\"xlsx\")"
   ]
  },
  {
   "cell_type": "code",
   "execution_count": 301,
   "id": "cfe946a5-31f9-4b5e-ad50-b73715ceb74b",
   "metadata": {},
   "outputs": [
    {
     "data": {
      "text/plain": [
       "True"
      ]
     },
     "execution_count": 301,
     "metadata": {},
     "output_type": "execute_result"
    }
   ],
   "source": [
    "#045.endswith 메서드. 파일 이름이 문자열로 저장되어 있을 때 endswith 메서드를 사용해서 파일 이름이 'xlsx' 또는 'xls'로 끝나는지 확인해보세요.\n",
    "file_name = \"보고서.xlsx\"\n",
    "file_name.endswith((\"xlsx\",\"xls\"))"
   ]
  },
  {
   "cell_type": "code",
   "execution_count": 303,
   "id": "a85b1e55-f4c7-49ee-a70a-f3210a20a8aa",
   "metadata": {},
   "outputs": [
    {
     "data": {
      "text/plain": [
       "True"
      ]
     },
     "execution_count": 303,
     "metadata": {},
     "output_type": "execute_result"
    }
   ],
   "source": [
    "#046.startswith 메서드.파일 이름이 문자열로 저장되어 있을 때 startswith 메서드를 사용해서 파일 이름이 '2020'로 시작하는지 확인해보세요.\n",
    "file_name = \"2020_보고서.xlsx\"\n",
    "file_name.startswith(\"2020\")"
   ]
  },
  {
   "cell_type": "code",
   "execution_count": 307,
   "id": "190af4b4-0088-4e81-a814-768fffd1b6a6",
   "metadata": {},
   "outputs": [
    {
     "data": {
      "text/plain": [
       "['hello', 'world']"
      ]
     },
     "execution_count": 307,
     "metadata": {},
     "output_type": "execute_result"
    }
   ],
   "source": [
    "#047.split 메서드.다음과 같은 문자열이 있을 때 공백을 기준으로 문자열을 나눠보세요.\n",
    "a = \"hello world\"\n",
    "a.split(\" \")"
   ]
  },
  {
   "cell_type": "code",
   "execution_count": 309,
   "id": "1a70e900-7514-4b6c-886e-e74b295fd062",
   "metadata": {},
   "outputs": [
    {
     "data": {
      "text/plain": [
       "['btc', 'krw']"
      ]
     },
     "execution_count": 309,
     "metadata": {},
     "output_type": "execute_result"
    }
   ],
   "source": [
    "#048.split 메서드.다음과 같이 문자열이 있을 때 btc와 krw로 나눠보세요.\n",
    "ticker = \"btc_krw\"\n",
    "ticker.split(\"_\")"
   ]
  },
  {
   "cell_type": "code",
   "execution_count": 311,
   "id": "9d955d2f-34fb-4ba9-9daa-ad04d4f68a3f",
   "metadata": {},
   "outputs": [
    {
     "data": {
      "text/plain": [
       "['2020', '05', '01']"
      ]
     },
     "execution_count": 311,
     "metadata": {},
     "output_type": "execute_result"
    }
   ],
   "source": [
    "#049.split 메서드.다음과 같이 날짜를 표현하는 문자열이 있을 때 연도, 월, 일로 나눠보세요.\n",
    "date = \"2020-05-01\"\n",
    "date.split(\"-\")"
   ]
  },
  {
   "cell_type": "code",
   "execution_count": 313,
   "id": "6e36a3cd-24af-467b-9420-6f7c4342ece4",
   "metadata": {},
   "outputs": [
    {
     "data": {
      "text/plain": [
       "'039490'"
      ]
     },
     "execution_count": 313,
     "metadata": {},
     "output_type": "execute_result"
    }
   ],
   "source": [
    "#050.rstrip 메서드.문자열의 오른쪽에 공백이 있을 때 이를 제거해보세요.\n",
    "data = \"039490     \"\n",
    "data.rstrip()"
   ]
  }
 ],
 "metadata": {
  "kernelspec": {
   "display_name": "Python 3 (ipykernel)",
   "language": "python",
   "name": "python3"
  },
  "language_info": {
   "codemirror_mode": {
    "name": "ipython",
    "version": 3
   },
   "file_extension": ".py",
   "mimetype": "text/x-python",
   "name": "python",
   "nbconvert_exporter": "python",
   "pygments_lexer": "ipython3",
   "version": "3.12.4"
  }
 },
 "nbformat": 4,
 "nbformat_minor": 5
}
